{
 "cells": [
  {
   "cell_type": "code",
   "execution_count": 5,
   "id": "5f290794",
   "metadata": {},
   "outputs": [],
   "source": [
    "def amazon_link_generator(product_name: str) -> str:\n",
    "    amazon_linked_product = 'https://www.amazon.com.br/s?k='\n",
    "    product_name = product_name.split()\n",
    "    amazon_search_complement = '&i=computers'\n",
    "    \n",
    "    for item in product_name:\n",
    "        amazon_linked_product += '+'+item if product_name.index(item) > 0 else item \n",
    "\n",
    "    amazon_linked_product += amazon_search_complement\n",
    "\n",
    "    return amazon_linked_product.lower()"
   ]
  },
  {
   "cell_type": "code",
   "execution_count": 6,
   "id": "9e9871be",
   "metadata": {},
   "outputs": [
    {
     "data": {
      "text/plain": [
       "'https://www.amazon.com.br/s?k=mouse+gamer&i=computers'"
      ]
     },
     "execution_count": 6,
     "metadata": {},
     "output_type": "execute_result"
    }
   ],
   "source": [
    "amazon_link_generator('mouse gamer')"
   ]
  },
  {
   "cell_type": "code",
   "execution_count": null,
   "id": "17ecf9f7",
   "metadata": {},
   "outputs": [],
   "source": []
  }
 ],
 "metadata": {
  "kernelspec": {
   "display_name": "Python 3 (ipykernel)",
   "language": "python",
   "name": "python3"
  },
  "language_info": {
   "codemirror_mode": {
    "name": "ipython",
    "version": 3
   },
   "file_extension": ".py",
   "mimetype": "text/x-python",
   "name": "python",
   "nbconvert_exporter": "python",
   "pygments_lexer": "ipython3",
   "version": "3.10.0"
  }
 },
 "nbformat": 4,
 "nbformat_minor": 5
}
